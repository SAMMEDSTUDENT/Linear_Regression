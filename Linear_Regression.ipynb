{
  "nbformat": 4,
  "nbformat_minor": 0,
  "metadata": {
    "colab": {
      "name": "Linear_Regression.ipynb",
      "private_outputs": true,
      "provenance": [],
      "collapsed_sections": [],
      "authorship_tag": "ABX9TyMS0LMB2/dfQSsFGAYTZ1eY",
      "include_colab_link": true
    },
    "kernelspec": {
      "name": "python3",
      "display_name": "Python 3"
    },
    "language_info": {
      "name": "python"
    }
  },
  "cells": [
    {
      "cell_type": "markdown",
      "metadata": {
        "id": "view-in-github",
        "colab_type": "text"
      },
      "source": [
        "<a href=\"https://colab.research.google.com/github/SAMMEDSTUDENT/Linear_Regression/blob/main/Linear_Regression.ipynb\" target=\"_parent\"><img src=\"https://colab.research.google.com/assets/colab-badge.svg\" alt=\"Open In Colab\"/></a>"
      ]
    },
    {
      "cell_type": "code",
      "execution_count": null,
      "metadata": {
        "id": "rNbNTYhU1t5u"
      },
      "outputs": [],
      "source": [
        "#matplotlib inline\n",
        "import matplotlib.pyplot as plt\n",
        "import numpy as np\n",
        "import pandas as pd"
      ]
    },
    {
      "cell_type": "code",
      "source": [
        "#reading data \n",
        "data=pd.read_csv('/content/headbrain.csv')\n",
        "data.head()"
      ],
      "metadata": {
        "id": "y8pbQJsY19cb"
      },
      "execution_count": null,
      "outputs": []
    },
    {
      "cell_type": "code",
      "source": [
        "#collection of data\n",
        "X=data['Head Size(cm^3)'].values\n",
        "Y=data['Brain Weight(grams)'].values"
      ],
      "metadata": {
        "id": "WHU7n8p13t_t"
      },
      "execution_count": null,
      "outputs": []
    },
    {
      "cell_type": "code",
      "source": [
        "#mean X and Y\n",
        "mean_X=np.mean(X)\n",
        "mean_Y=np.mean(Y)\n",
        "\n",
        "#total number of values\n",
        "l=len(X)\n",
        "print(l)\n",
        "\n",
        "#using the formula to calculate m and c\n",
        "numer=0\n",
        "denom=0\n",
        "for i in range(l):\n",
        "  numer+=(X[i]-mean_X)*(Y[i]-mean_Y)\n",
        "  denom+=(X[i]-mean_X)**2\n",
        "m=numer/denom\n",
        "c=mean_Y-(m*mean_X)\n",
        "\n",
        "#print coeficients\n",
        "print(m,c)"
      ],
      "metadata": {
        "id": "L7zvO4hy5kxM"
      },
      "execution_count": null,
      "outputs": []
    },
    {
      "cell_type": "code",
      "source": [
        "#plotting the values and regression line\n",
        "max_X=np.max(X)+100\n",
        "min_X=np.min(X)-100\n",
        "\n",
        "#calculating  line values X and Y\n",
        "x=np.linspace(min_X,max_X,1000)\n",
        "y=m*x+c\n",
        "\n",
        "#plotting line\n",
        "plt.plot(x,y,color='#58b970',label='Regression line')\n",
        "#pllotting scatter points\n",
        "plt.scatter(X,Y,c='#ef5423',label='scatter plots')\n",
        "\n",
        "plt.xlabel('head size in cm^3')\n",
        "plt.ylabel('brain weight in grams')\n",
        "plt.legend()\n",
        "plt.show()"
      ],
      "metadata": {
        "id": "McYHfByJ8lkX"
      },
      "execution_count": null,
      "outputs": []
    },
    {
      "cell_type": "code",
      "source": [
        "#Goodness of Model using R**2 test\n",
        "ss_t=0  # total sum of square\n",
        "ss_r=0  #total sum of square ofresiduals\n",
        "for i in range(l):\n",
        "  y_pred=c+m*X[i]\n",
        "  ss_t += (Y[i]-mean_Y)**2\n",
        "  ss_r += (Y[i]-y_pred)**2\n",
        "r2=1-(ss_r/ss_t)\n",
        "print(r2)"
      ],
      "metadata": {
        "id": "5UiLC-ARi4QD"
      },
      "execution_count": null,
      "outputs": []
    },
    {
      "cell_type": "markdown",
      "source": [
        "Above was using least square method ,i.e., mathematically"
      ],
      "metadata": {
        "id": "ffjsyTaeuKBW"
      }
    },
    {
      "cell_type": "markdown",
      "source": [
        "Below is the code for Linear Regression using Machine Learning module SKLEARN and in it Linear Regression "
      ],
      "metadata": {
        "id": "Mi4JCAlBuSo_"
      }
    },
    {
      "cell_type": "code",
      "source": [
        "from sklearn.linear_model import LinearRegression\n",
        "from sklearn.metrics import mean_squared_error\n",
        "\n",
        "# Cannot use Rank 1 matrix in scikit learn\n",
        "X=X.reshape((l,1))\n",
        "\n",
        "# Creating model\n",
        "reg=LinearRegression()\n",
        "\n",
        "# Fitting training data\n",
        "reg=reg.fit(X,Y)\n",
        "\n",
        "# Y Predicion\n",
        "Y_pred=reg.predict(X)\n",
        "\n",
        "# Calculating R2 score\n",
        "r2_score=reg.score(X,Y)\n",
        "print(r2_score)"
      ],
      "metadata": {
        "id": "biXNvZx5ivjn"
      },
      "execution_count": null,
      "outputs": []
    },
    {
      "cell_type": "code",
      "source": [
        "import seaborn as sns\n",
        "sns.heatmap(data.corr())"
      ],
      "metadata": {
        "id": "oIoGEWk7POiV"
      },
      "execution_count": null,
      "outputs": []
    }
  ]
}